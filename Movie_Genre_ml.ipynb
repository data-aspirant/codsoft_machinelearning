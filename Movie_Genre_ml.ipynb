{
  "nbformat": 4,
  "nbformat_minor": 0,
  "metadata": {
    "colab": {
      "provenance": []
    },
    "kernelspec": {
      "name": "python3",
      "display_name": "Python 3"
    },
    "language_info": {
      "name": "python"
    }
  },
  "cells": [
    {
      "cell_type": "code",
      "execution_count": 1,
      "metadata": {
        "colab": {
          "base_uri": "https://localhost:8080/"
        },
        "id": "Xcdfjj1jYYQc",
        "outputId": "f7e90b82-7d43-44a3-ffe2-2767524a174b"
      },
      "outputs": [
        {
          "output_type": "stream",
          "name": "stderr",
          "text": [
            "[nltk_data] Downloading package wordnet to /root/nltk_data...\n",
            "[nltk_data] Downloading package stopwords to /root/nltk_data...\n",
            "[nltk_data]   Unzipping corpora/stopwords.zip.\n"
          ]
        },
        {
          "output_type": "execute_result",
          "data": {
            "text/plain": [
              "True"
            ]
          },
          "metadata": {},
          "execution_count": 1
        }
      ],
      "source": [
        "#importing the libraries\n",
        "import pandas as pd\n",
        "import numpy as np\n",
        "import pandas as pd\n",
        "import re\n",
        "import nltk\n",
        "from nltk.corpus import stopwords\n",
        "from nltk.corpus import wordnet\n",
        "from nltk.stem.porter import PorterStemmer\n",
        "from nltk.stem import WordNetLemmatizer\n",
        "from sklearn.feature_extraction.text import TfidfVectorizer\n",
        "from sklearn.preprocessing import LabelEncoder\n",
        "\n",
        "nltk.download('wordnet')\n",
        "nltk.download('stopwords')"
      ]
    },
    {
      "cell_type": "code",
      "source": [
        "#reading the training txt file and naming the columns\n",
        "train_df = pd.read_csv(\"train_data.txt\",\n",
        "                       engine=\"python\",\n",
        "                       sep=\" ::: \",\n",
        "                       names=[\"id\", \"movie\", \"genre\", \"Description\"])\n",
        "train_df"
      ],
      "metadata": {
        "colab": {
          "base_uri": "https://localhost:8080/",
          "height": 423
        },
        "id": "xhGpqToNYiLQ",
        "outputId": "4f2bce83-d6cb-49d9-bac2-2d9f4ff46a4f"
      },
      "execution_count": 2,
      "outputs": [
        {
          "output_type": "execute_result",
          "data": {
            "text/plain": [
              "          id                                       movie        genre  \\\n",
              "0          1                Oscar et la dame rose (2009)        drama   \n",
              "1          2                                Cupid (1997)     thriller   \n",
              "2          3            Young, Wild and Wonderful (1980)        adult   \n",
              "3          4                       The Secret Sin (1915)        drama   \n",
              "4          5                      The Unrecovered (2007)        drama   \n",
              "...      ...                                         ...          ...   \n",
              "54209  54210                             \"Bonino\" (1953)       comedy   \n",
              "54210  54211                 Dead Girls Don't Cry (????)       horror   \n",
              "54211  54212   Ronald Goedemondt: Ze bestaan echt (2008)  documentary   \n",
              "54212  54213                    Make Your Own Bed (1944)       comedy   \n",
              "54213  54214  Nature's Fury: Storm of the Century (2006)      history   \n",
              "\n",
              "                                             Description  \n",
              "0      Listening in to a conversation between his doc...  \n",
              "1      A brother and sister with a past incestuous re...  \n",
              "2      As the bus empties the students for their fiel...  \n",
              "3      To help their unemployed father make ends meet...  \n",
              "4      The film's title refers not only to the un-rec...  \n",
              "...                                                  ...  \n",
              "54209  This short-lived NBC live sitcom centered on B...  \n",
              "54210  The NEXT Generation of EXPLOITATION. The siste...  \n",
              "54211  Ze bestaan echt, is a stand-up comedy about gr...  \n",
              "54212  Walter and Vivian live in the country and have...  \n",
              "54213  On Labor Day Weekend, 1935, the most intense h...  \n",
              "\n",
              "[54214 rows x 4 columns]"
            ],
            "text/html": [
              "\n",
              "  <div id=\"df-0ca69372-1248-4055-99fd-0085e472bacb\" class=\"colab-df-container\">\n",
              "    <div>\n",
              "<style scoped>\n",
              "    .dataframe tbody tr th:only-of-type {\n",
              "        vertical-align: middle;\n",
              "    }\n",
              "\n",
              "    .dataframe tbody tr th {\n",
              "        vertical-align: top;\n",
              "    }\n",
              "\n",
              "    .dataframe thead th {\n",
              "        text-align: right;\n",
              "    }\n",
              "</style>\n",
              "<table border=\"1\" class=\"dataframe\">\n",
              "  <thead>\n",
              "    <tr style=\"text-align: right;\">\n",
              "      <th></th>\n",
              "      <th>id</th>\n",
              "      <th>movie</th>\n",
              "      <th>genre</th>\n",
              "      <th>Description</th>\n",
              "    </tr>\n",
              "  </thead>\n",
              "  <tbody>\n",
              "    <tr>\n",
              "      <th>0</th>\n",
              "      <td>1</td>\n",
              "      <td>Oscar et la dame rose (2009)</td>\n",
              "      <td>drama</td>\n",
              "      <td>Listening in to a conversation between his doc...</td>\n",
              "    </tr>\n",
              "    <tr>\n",
              "      <th>1</th>\n",
              "      <td>2</td>\n",
              "      <td>Cupid (1997)</td>\n",
              "      <td>thriller</td>\n",
              "      <td>A brother and sister with a past incestuous re...</td>\n",
              "    </tr>\n",
              "    <tr>\n",
              "      <th>2</th>\n",
              "      <td>3</td>\n",
              "      <td>Young, Wild and Wonderful (1980)</td>\n",
              "      <td>adult</td>\n",
              "      <td>As the bus empties the students for their fiel...</td>\n",
              "    </tr>\n",
              "    <tr>\n",
              "      <th>3</th>\n",
              "      <td>4</td>\n",
              "      <td>The Secret Sin (1915)</td>\n",
              "      <td>drama</td>\n",
              "      <td>To help their unemployed father make ends meet...</td>\n",
              "    </tr>\n",
              "    <tr>\n",
              "      <th>4</th>\n",
              "      <td>5</td>\n",
              "      <td>The Unrecovered (2007)</td>\n",
              "      <td>drama</td>\n",
              "      <td>The film's title refers not only to the un-rec...</td>\n",
              "    </tr>\n",
              "    <tr>\n",
              "      <th>...</th>\n",
              "      <td>...</td>\n",
              "      <td>...</td>\n",
              "      <td>...</td>\n",
              "      <td>...</td>\n",
              "    </tr>\n",
              "    <tr>\n",
              "      <th>54209</th>\n",
              "      <td>54210</td>\n",
              "      <td>\"Bonino\" (1953)</td>\n",
              "      <td>comedy</td>\n",
              "      <td>This short-lived NBC live sitcom centered on B...</td>\n",
              "    </tr>\n",
              "    <tr>\n",
              "      <th>54210</th>\n",
              "      <td>54211</td>\n",
              "      <td>Dead Girls Don't Cry (????)</td>\n",
              "      <td>horror</td>\n",
              "      <td>The NEXT Generation of EXPLOITATION. The siste...</td>\n",
              "    </tr>\n",
              "    <tr>\n",
              "      <th>54211</th>\n",
              "      <td>54212</td>\n",
              "      <td>Ronald Goedemondt: Ze bestaan echt (2008)</td>\n",
              "      <td>documentary</td>\n",
              "      <td>Ze bestaan echt, is a stand-up comedy about gr...</td>\n",
              "    </tr>\n",
              "    <tr>\n",
              "      <th>54212</th>\n",
              "      <td>54213</td>\n",
              "      <td>Make Your Own Bed (1944)</td>\n",
              "      <td>comedy</td>\n",
              "      <td>Walter and Vivian live in the country and have...</td>\n",
              "    </tr>\n",
              "    <tr>\n",
              "      <th>54213</th>\n",
              "      <td>54214</td>\n",
              "      <td>Nature's Fury: Storm of the Century (2006)</td>\n",
              "      <td>history</td>\n",
              "      <td>On Labor Day Weekend, 1935, the most intense h...</td>\n",
              "    </tr>\n",
              "  </tbody>\n",
              "</table>\n",
              "<p>54214 rows × 4 columns</p>\n",
              "</div>\n",
              "    <div class=\"colab-df-buttons\">\n",
              "\n",
              "  <div class=\"colab-df-container\">\n",
              "    <button class=\"colab-df-convert\" onclick=\"convertToInteractive('df-0ca69372-1248-4055-99fd-0085e472bacb')\"\n",
              "            title=\"Convert this dataframe to an interactive table.\"\n",
              "            style=\"display:none;\">\n",
              "\n",
              "  <svg xmlns=\"http://www.w3.org/2000/svg\" height=\"24px\" viewBox=\"0 -960 960 960\">\n",
              "    <path d=\"M120-120v-720h720v720H120Zm60-500h600v-160H180v160Zm220 220h160v-160H400v160Zm0 220h160v-160H400v160ZM180-400h160v-160H180v160Zm440 0h160v-160H620v160ZM180-180h160v-160H180v160Zm440 0h160v-160H620v160Z\"/>\n",
              "  </svg>\n",
              "    </button>\n",
              "\n",
              "  <style>\n",
              "    .colab-df-container {\n",
              "      display:flex;\n",
              "      gap: 12px;\n",
              "    }\n",
              "\n",
              "    .colab-df-convert {\n",
              "      background-color: #E8F0FE;\n",
              "      border: none;\n",
              "      border-radius: 50%;\n",
              "      cursor: pointer;\n",
              "      display: none;\n",
              "      fill: #1967D2;\n",
              "      height: 32px;\n",
              "      padding: 0 0 0 0;\n",
              "      width: 32px;\n",
              "    }\n",
              "\n",
              "    .colab-df-convert:hover {\n",
              "      background-color: #E2EBFA;\n",
              "      box-shadow: 0px 1px 2px rgba(60, 64, 67, 0.3), 0px 1px 3px 1px rgba(60, 64, 67, 0.15);\n",
              "      fill: #174EA6;\n",
              "    }\n",
              "\n",
              "    .colab-df-buttons div {\n",
              "      margin-bottom: 4px;\n",
              "    }\n",
              "\n",
              "    [theme=dark] .colab-df-convert {\n",
              "      background-color: #3B4455;\n",
              "      fill: #D2E3FC;\n",
              "    }\n",
              "\n",
              "    [theme=dark] .colab-df-convert:hover {\n",
              "      background-color: #434B5C;\n",
              "      box-shadow: 0px 1px 3px 1px rgba(0, 0, 0, 0.15);\n",
              "      filter: drop-shadow(0px 1px 2px rgba(0, 0, 0, 0.3));\n",
              "      fill: #FFFFFF;\n",
              "    }\n",
              "  </style>\n",
              "\n",
              "    <script>\n",
              "      const buttonEl =\n",
              "        document.querySelector('#df-0ca69372-1248-4055-99fd-0085e472bacb button.colab-df-convert');\n",
              "      buttonEl.style.display =\n",
              "        google.colab.kernel.accessAllowed ? 'block' : 'none';\n",
              "\n",
              "      async function convertToInteractive(key) {\n",
              "        const element = document.querySelector('#df-0ca69372-1248-4055-99fd-0085e472bacb');\n",
              "        const dataTable =\n",
              "          await google.colab.kernel.invokeFunction('convertToInteractive',\n",
              "                                                    [key], {});\n",
              "        if (!dataTable) return;\n",
              "\n",
              "        const docLinkHtml = 'Like what you see? Visit the ' +\n",
              "          '<a target=\"_blank\" href=https://colab.research.google.com/notebooks/data_table.ipynb>data table notebook</a>'\n",
              "          + ' to learn more about interactive tables.';\n",
              "        element.innerHTML = '';\n",
              "        dataTable['output_type'] = 'display_data';\n",
              "        await google.colab.output.renderOutput(dataTable, element);\n",
              "        const docLink = document.createElement('div');\n",
              "        docLink.innerHTML = docLinkHtml;\n",
              "        element.appendChild(docLink);\n",
              "      }\n",
              "    </script>\n",
              "  </div>\n",
              "\n",
              "\n",
              "<div id=\"df-fdc9a78c-4fcf-4e07-90bb-13d639a51a58\">\n",
              "  <button class=\"colab-df-quickchart\" onclick=\"quickchart('df-fdc9a78c-4fcf-4e07-90bb-13d639a51a58')\"\n",
              "            title=\"Suggest charts.\"\n",
              "            style=\"display:none;\">\n",
              "\n",
              "<svg xmlns=\"http://www.w3.org/2000/svg\" height=\"24px\"viewBox=\"0 0 24 24\"\n",
              "     width=\"24px\">\n",
              "    <g>\n",
              "        <path d=\"M19 3H5c-1.1 0-2 .9-2 2v14c0 1.1.9 2 2 2h14c1.1 0 2-.9 2-2V5c0-1.1-.9-2-2-2zM9 17H7v-7h2v7zm4 0h-2V7h2v10zm4 0h-2v-4h2v4z\"/>\n",
              "    </g>\n",
              "</svg>\n",
              "  </button>\n",
              "\n",
              "<style>\n",
              "  .colab-df-quickchart {\n",
              "    background-color: #E8F0FE;\n",
              "    border: none;\n",
              "    border-radius: 50%;\n",
              "    cursor: pointer;\n",
              "    display: none;\n",
              "    fill: #1967D2;\n",
              "    height: 32px;\n",
              "    padding: 0 0 0 0;\n",
              "    width: 32px;\n",
              "  }\n",
              "\n",
              "  .colab-df-quickchart:hover {\n",
              "    background-color: #E2EBFA;\n",
              "    box-shadow: 0px 1px 2px rgba(60, 64, 67, 0.3), 0px 1px 3px 1px rgba(60, 64, 67, 0.15);\n",
              "    fill: #174EA6;\n",
              "  }\n",
              "\n",
              "  [theme=dark] .colab-df-quickchart {\n",
              "    background-color: #3B4455;\n",
              "    fill: #D2E3FC;\n",
              "  }\n",
              "\n",
              "  [theme=dark] .colab-df-quickchart:hover {\n",
              "    background-color: #434B5C;\n",
              "    box-shadow: 0px 1px 3px 1px rgba(0, 0, 0, 0.15);\n",
              "    filter: drop-shadow(0px 1px 2px rgba(0, 0, 0, 0.3));\n",
              "    fill: #FFFFFF;\n",
              "  }\n",
              "</style>\n",
              "\n",
              "  <script>\n",
              "    async function quickchart(key) {\n",
              "      const charts = await google.colab.kernel.invokeFunction(\n",
              "          'suggestCharts', [key], {});\n",
              "    }\n",
              "    (() => {\n",
              "      let quickchartButtonEl =\n",
              "        document.querySelector('#df-fdc9a78c-4fcf-4e07-90bb-13d639a51a58 button');\n",
              "      quickchartButtonEl.style.display =\n",
              "        google.colab.kernel.accessAllowed ? 'block' : 'none';\n",
              "    })();\n",
              "  </script>\n",
              "</div>\n",
              "    </div>\n",
              "  </div>\n"
            ]
          },
          "metadata": {},
          "execution_count": 2
        }
      ]
    },
    {
      "cell_type": "code",
      "source": [
        "#reading the sample test txt file and naming the columns\n",
        "\n",
        "new_test_df = pd.read_csv(\"test_data.txt\",\n",
        "                       engine=\"python\",\n",
        "                       sep=\" ::: \",\n",
        "                       names=[\"id\", \"movie\",\"Description\"])\n",
        "new_test_df"
      ],
      "metadata": {
        "colab": {
          "base_uri": "https://localhost:8080/",
          "height": 423
        },
        "id": "MqW4CCeAdOqy",
        "outputId": "2c8fa12d-0f88-4eeb-bbe0-4700067f5131"
      },
      "execution_count": 3,
      "outputs": [
        {
          "output_type": "execute_result",
          "data": {
            "text/plain": [
              "          id                           movie  \\\n",
              "0          1            Edgar's Lunch (1998)   \n",
              "1          2        La guerra de papá (1977)   \n",
              "2          3     Off the Beaten Track (2010)   \n",
              "3          4          Meu Amigo Hindu (2015)   \n",
              "4          5               Er nu zhai (1955)   \n",
              "...      ...                             ...   \n",
              "54195  54196  \"Tales of Light & Dark\" (2013)   \n",
              "54196  54197     Der letzte Mohikaner (1965)   \n",
              "54197  54198             Oliver Twink (2007)   \n",
              "54198  54199               Slipstream (1973)   \n",
              "54199  54200       Curitiba Zero Grau (2010)   \n",
              "\n",
              "                                             Description  \n",
              "0      L.R. Brane loves his life - his car, his apart...  \n",
              "1      Spain, March 1964: Quico is a very naughty chi...  \n",
              "2      One year in the life of Albin and his family o...  \n",
              "3      His father has died, he hasn't spoken with his...  \n",
              "4      Before he was known internationally as a marti...  \n",
              "...                                                  ...  \n",
              "54195  Covering multiple genres, Tales of Light & Dar...  \n",
              "54196  As Alice and Cora Munro attempt to find their ...  \n",
              "54197  A movie 169 years in the making. Oliver Twist,...  \n",
              "54198  Popular, but mysterious rock D.J Mike Mallard ...  \n",
              "54199  Curitiba is a city in movement, with rhythms a...  \n",
              "\n",
              "[54200 rows x 3 columns]"
            ],
            "text/html": [
              "\n",
              "  <div id=\"df-677978d8-9894-441c-bbc6-dda7de4c0369\" class=\"colab-df-container\">\n",
              "    <div>\n",
              "<style scoped>\n",
              "    .dataframe tbody tr th:only-of-type {\n",
              "        vertical-align: middle;\n",
              "    }\n",
              "\n",
              "    .dataframe tbody tr th {\n",
              "        vertical-align: top;\n",
              "    }\n",
              "\n",
              "    .dataframe thead th {\n",
              "        text-align: right;\n",
              "    }\n",
              "</style>\n",
              "<table border=\"1\" class=\"dataframe\">\n",
              "  <thead>\n",
              "    <tr style=\"text-align: right;\">\n",
              "      <th></th>\n",
              "      <th>id</th>\n",
              "      <th>movie</th>\n",
              "      <th>Description</th>\n",
              "    </tr>\n",
              "  </thead>\n",
              "  <tbody>\n",
              "    <tr>\n",
              "      <th>0</th>\n",
              "      <td>1</td>\n",
              "      <td>Edgar's Lunch (1998)</td>\n",
              "      <td>L.R. Brane loves his life - his car, his apart...</td>\n",
              "    </tr>\n",
              "    <tr>\n",
              "      <th>1</th>\n",
              "      <td>2</td>\n",
              "      <td>La guerra de papá (1977)</td>\n",
              "      <td>Spain, March 1964: Quico is a very naughty chi...</td>\n",
              "    </tr>\n",
              "    <tr>\n",
              "      <th>2</th>\n",
              "      <td>3</td>\n",
              "      <td>Off the Beaten Track (2010)</td>\n",
              "      <td>One year in the life of Albin and his family o...</td>\n",
              "    </tr>\n",
              "    <tr>\n",
              "      <th>3</th>\n",
              "      <td>4</td>\n",
              "      <td>Meu Amigo Hindu (2015)</td>\n",
              "      <td>His father has died, he hasn't spoken with his...</td>\n",
              "    </tr>\n",
              "    <tr>\n",
              "      <th>4</th>\n",
              "      <td>5</td>\n",
              "      <td>Er nu zhai (1955)</td>\n",
              "      <td>Before he was known internationally as a marti...</td>\n",
              "    </tr>\n",
              "    <tr>\n",
              "      <th>...</th>\n",
              "      <td>...</td>\n",
              "      <td>...</td>\n",
              "      <td>...</td>\n",
              "    </tr>\n",
              "    <tr>\n",
              "      <th>54195</th>\n",
              "      <td>54196</td>\n",
              "      <td>\"Tales of Light &amp; Dark\" (2013)</td>\n",
              "      <td>Covering multiple genres, Tales of Light &amp; Dar...</td>\n",
              "    </tr>\n",
              "    <tr>\n",
              "      <th>54196</th>\n",
              "      <td>54197</td>\n",
              "      <td>Der letzte Mohikaner (1965)</td>\n",
              "      <td>As Alice and Cora Munro attempt to find their ...</td>\n",
              "    </tr>\n",
              "    <tr>\n",
              "      <th>54197</th>\n",
              "      <td>54198</td>\n",
              "      <td>Oliver Twink (2007)</td>\n",
              "      <td>A movie 169 years in the making. Oliver Twist,...</td>\n",
              "    </tr>\n",
              "    <tr>\n",
              "      <th>54198</th>\n",
              "      <td>54199</td>\n",
              "      <td>Slipstream (1973)</td>\n",
              "      <td>Popular, but mysterious rock D.J Mike Mallard ...</td>\n",
              "    </tr>\n",
              "    <tr>\n",
              "      <th>54199</th>\n",
              "      <td>54200</td>\n",
              "      <td>Curitiba Zero Grau (2010)</td>\n",
              "      <td>Curitiba is a city in movement, with rhythms a...</td>\n",
              "    </tr>\n",
              "  </tbody>\n",
              "</table>\n",
              "<p>54200 rows × 3 columns</p>\n",
              "</div>\n",
              "    <div class=\"colab-df-buttons\">\n",
              "\n",
              "  <div class=\"colab-df-container\">\n",
              "    <button class=\"colab-df-convert\" onclick=\"convertToInteractive('df-677978d8-9894-441c-bbc6-dda7de4c0369')\"\n",
              "            title=\"Convert this dataframe to an interactive table.\"\n",
              "            style=\"display:none;\">\n",
              "\n",
              "  <svg xmlns=\"http://www.w3.org/2000/svg\" height=\"24px\" viewBox=\"0 -960 960 960\">\n",
              "    <path d=\"M120-120v-720h720v720H120Zm60-500h600v-160H180v160Zm220 220h160v-160H400v160Zm0 220h160v-160H400v160ZM180-400h160v-160H180v160Zm440 0h160v-160H620v160ZM180-180h160v-160H180v160Zm440 0h160v-160H620v160Z\"/>\n",
              "  </svg>\n",
              "    </button>\n",
              "\n",
              "  <style>\n",
              "    .colab-df-container {\n",
              "      display:flex;\n",
              "      gap: 12px;\n",
              "    }\n",
              "\n",
              "    .colab-df-convert {\n",
              "      background-color: #E8F0FE;\n",
              "      border: none;\n",
              "      border-radius: 50%;\n",
              "      cursor: pointer;\n",
              "      display: none;\n",
              "      fill: #1967D2;\n",
              "      height: 32px;\n",
              "      padding: 0 0 0 0;\n",
              "      width: 32px;\n",
              "    }\n",
              "\n",
              "    .colab-df-convert:hover {\n",
              "      background-color: #E2EBFA;\n",
              "      box-shadow: 0px 1px 2px rgba(60, 64, 67, 0.3), 0px 1px 3px 1px rgba(60, 64, 67, 0.15);\n",
              "      fill: #174EA6;\n",
              "    }\n",
              "\n",
              "    .colab-df-buttons div {\n",
              "      margin-bottom: 4px;\n",
              "    }\n",
              "\n",
              "    [theme=dark] .colab-df-convert {\n",
              "      background-color: #3B4455;\n",
              "      fill: #D2E3FC;\n",
              "    }\n",
              "\n",
              "    [theme=dark] .colab-df-convert:hover {\n",
              "      background-color: #434B5C;\n",
              "      box-shadow: 0px 1px 3px 1px rgba(0, 0, 0, 0.15);\n",
              "      filter: drop-shadow(0px 1px 2px rgba(0, 0, 0, 0.3));\n",
              "      fill: #FFFFFF;\n",
              "    }\n",
              "  </style>\n",
              "\n",
              "    <script>\n",
              "      const buttonEl =\n",
              "        document.querySelector('#df-677978d8-9894-441c-bbc6-dda7de4c0369 button.colab-df-convert');\n",
              "      buttonEl.style.display =\n",
              "        google.colab.kernel.accessAllowed ? 'block' : 'none';\n",
              "\n",
              "      async function convertToInteractive(key) {\n",
              "        const element = document.querySelector('#df-677978d8-9894-441c-bbc6-dda7de4c0369');\n",
              "        const dataTable =\n",
              "          await google.colab.kernel.invokeFunction('convertToInteractive',\n",
              "                                                    [key], {});\n",
              "        if (!dataTable) return;\n",
              "\n",
              "        const docLinkHtml = 'Like what you see? Visit the ' +\n",
              "          '<a target=\"_blank\" href=https://colab.research.google.com/notebooks/data_table.ipynb>data table notebook</a>'\n",
              "          + ' to learn more about interactive tables.';\n",
              "        element.innerHTML = '';\n",
              "        dataTable['output_type'] = 'display_data';\n",
              "        await google.colab.output.renderOutput(dataTable, element);\n",
              "        const docLink = document.createElement('div');\n",
              "        docLink.innerHTML = docLinkHtml;\n",
              "        element.appendChild(docLink);\n",
              "      }\n",
              "    </script>\n",
              "  </div>\n",
              "\n",
              "\n",
              "<div id=\"df-f6b3febf-9b43-40f3-abde-bb2d9787bcb4\">\n",
              "  <button class=\"colab-df-quickchart\" onclick=\"quickchart('df-f6b3febf-9b43-40f3-abde-bb2d9787bcb4')\"\n",
              "            title=\"Suggest charts.\"\n",
              "            style=\"display:none;\">\n",
              "\n",
              "<svg xmlns=\"http://www.w3.org/2000/svg\" height=\"24px\"viewBox=\"0 0 24 24\"\n",
              "     width=\"24px\">\n",
              "    <g>\n",
              "        <path d=\"M19 3H5c-1.1 0-2 .9-2 2v14c0 1.1.9 2 2 2h14c1.1 0 2-.9 2-2V5c0-1.1-.9-2-2-2zM9 17H7v-7h2v7zm4 0h-2V7h2v10zm4 0h-2v-4h2v4z\"/>\n",
              "    </g>\n",
              "</svg>\n",
              "  </button>\n",
              "\n",
              "<style>\n",
              "  .colab-df-quickchart {\n",
              "    background-color: #E8F0FE;\n",
              "    border: none;\n",
              "    border-radius: 50%;\n",
              "    cursor: pointer;\n",
              "    display: none;\n",
              "    fill: #1967D2;\n",
              "    height: 32px;\n",
              "    padding: 0 0 0 0;\n",
              "    width: 32px;\n",
              "  }\n",
              "\n",
              "  .colab-df-quickchart:hover {\n",
              "    background-color: #E2EBFA;\n",
              "    box-shadow: 0px 1px 2px rgba(60, 64, 67, 0.3), 0px 1px 3px 1px rgba(60, 64, 67, 0.15);\n",
              "    fill: #174EA6;\n",
              "  }\n",
              "\n",
              "  [theme=dark] .colab-df-quickchart {\n",
              "    background-color: #3B4455;\n",
              "    fill: #D2E3FC;\n",
              "  }\n",
              "\n",
              "  [theme=dark] .colab-df-quickchart:hover {\n",
              "    background-color: #434B5C;\n",
              "    box-shadow: 0px 1px 3px 1px rgba(0, 0, 0, 0.15);\n",
              "    filter: drop-shadow(0px 1px 2px rgba(0, 0, 0, 0.3));\n",
              "    fill: #FFFFFF;\n",
              "  }\n",
              "</style>\n",
              "\n",
              "  <script>\n",
              "    async function quickchart(key) {\n",
              "      const charts = await google.colab.kernel.invokeFunction(\n",
              "          'suggestCharts', [key], {});\n",
              "    }\n",
              "    (() => {\n",
              "      let quickchartButtonEl =\n",
              "        document.querySelector('#df-f6b3febf-9b43-40f3-abde-bb2d9787bcb4 button');\n",
              "      quickchartButtonEl.style.display =\n",
              "        google.colab.kernel.accessAllowed ? 'block' : 'none';\n",
              "    })();\n",
              "  </script>\n",
              "</div>\n",
              "    </div>\n",
              "  </div>\n"
            ]
          },
          "metadata": {},
          "execution_count": 3
        }
      ]
    },
    {
      "cell_type": "code",
      "source": [
        "#seperating the dependent variable from the dataset\n",
        "y_train = train_df.genre\n",
        "print(y_train)\n",
        "\n"
      ],
      "metadata": {
        "colab": {
          "base_uri": "https://localhost:8080/"
        },
        "id": "IQq8ZBkvYnFR",
        "outputId": "6e0362c6-c4f0-470a-811c-242e605b7e9c"
      },
      "execution_count": 4,
      "outputs": [
        {
          "output_type": "stream",
          "name": "stdout",
          "text": [
            "0              drama\n",
            "1           thriller\n",
            "2              adult\n",
            "3              drama\n",
            "4              drama\n",
            "            ...     \n",
            "54209         comedy\n",
            "54210         horror\n",
            "54211    documentary\n",
            "54212         comedy\n",
            "54213        history\n",
            "Name: genre, Length: 54214, dtype: object\n"
          ]
        }
      ]
    },
    {
      "cell_type": "code",
      "source": [
        "#convering the dependent feature from categorical variable into numerical variable\n",
        "le = LabelEncoder()\n",
        "le.fit(y_train)\n",
        "le.classes_\n",
        "y_train = le.transform(y_train)\n",
        "y_train"
      ],
      "metadata": {
        "colab": {
          "base_uri": "https://localhost:8080/"
        },
        "id": "MWvQehAGYse1",
        "outputId": "8dd317b2-59a2-4d43-e59e-1125dbc1d345"
      },
      "execution_count": 5,
      "outputs": [
        {
          "output_type": "execute_result",
          "data": {
            "text/plain": [
              "array([ 8, 24,  1, ...,  7,  5, 12])"
            ]
          },
          "metadata": {},
          "execution_count": 5
        }
      ]
    },
    {
      "cell_type": "code",
      "source": [
        "# converting the description column  from Series type to numpy array\n",
        "desc = train_df['Description']\n",
        "for _ in range(2):\n",
        "    print(desc[_])\n",
        "    print(\"\\n\")\n",
        "desc_arr = np.array(desc.tolist())\n",
        "print(type(desc_arr))"
      ],
      "metadata": {
        "colab": {
          "base_uri": "https://localhost:8080/"
        },
        "id": "825Tfb7OYy_L",
        "outputId": "83cb099c-4713-4023-839c-f68078126b5b"
      },
      "execution_count": 6,
      "outputs": [
        {
          "output_type": "stream",
          "name": "stdout",
          "text": [
            "Listening in to a conversation between his doctor and parents, 10-year-old Oscar learns what nobody has the courage to tell him. He only has a few weeks to live. Furious, he refuses to speak to anyone except straight-talking Rose, the lady in pink he meets on the hospital stairs. As Christmas approaches, Rose uses her fantastical experiences as a professional wrestler, her imagination, wit and charm to allow Oscar to live life and love to the full, in the company of his friends Pop Corn, Einstein, Bacon and childhood sweetheart Peggy Blue.\n",
            "\n",
            "\n",
            "A brother and sister with a past incestuous relationship have a current murderous relationship. He murders the women who reject him and she murders the women who get too close to him.\n",
            "\n",
            "\n",
            "<class 'numpy.ndarray'>\n"
          ]
        }
      ]
    },
    {
      "cell_type": "code",
      "source": [
        "#making a function that converts the input dataset into xtrain and features\n",
        "def extract_features(description_array):\n",
        "    wordnet = WordNetLemmatizer()\n",
        "    tfidf = TfidfVectorizer(max_features=7000)\n",
        "\n",
        "    corpus =[]\n",
        "\n",
        "    for i,des in enumerate(description_array):\n",
        "        if (i%1000==0):\n",
        "            print(\">>> Iteration # \",i)\n",
        "        var = re.sub(\"[^a-zA-Z]\", \" \", des) # just keeping the alphabets and removing special characters and numbers\n",
        "        var = var.lower() # lowercasing all\n",
        "        var = var.split() # splits on space to get a list of words\n",
        "        var = [wordnet.lemmatize(word) for word in var if not word in set(stopwords.words('english'))] # Lemmatizing all the words\n",
        "        var = ' '.join(var)\n",
        "        corpus.append(var)\n",
        "    X_train = tfidf.fit_transform(corpus).toarray()\n",
        "    features = tfidf.get_feature_names_out()\n",
        "    return X_train,features\n",
        "\n"
      ],
      "metadata": {
        "id": "LCkmsRugZJu9"
      },
      "execution_count": 7,
      "outputs": []
    },
    {
      "cell_type": "code",
      "source": [
        "X_train, features = extract_features(desc_arr)\n"
      ],
      "metadata": {
        "colab": {
          "base_uri": "https://localhost:8080/"
        },
        "id": "Fw23GHkFd0v6",
        "outputId": "e56e0946-ef5e-452b-b526-0b2656033705"
      },
      "execution_count": 8,
      "outputs": [
        {
          "output_type": "stream",
          "name": "stdout",
          "text": [
            ">>> Iteration #  0\n",
            ">>> Iteration #  1000\n",
            ">>> Iteration #  2000\n",
            ">>> Iteration #  3000\n",
            ">>> Iteration #  4000\n",
            ">>> Iteration #  5000\n",
            ">>> Iteration #  6000\n",
            ">>> Iteration #  7000\n",
            ">>> Iteration #  8000\n",
            ">>> Iteration #  9000\n",
            ">>> Iteration #  10000\n",
            ">>> Iteration #  11000\n",
            ">>> Iteration #  12000\n",
            ">>> Iteration #  13000\n",
            ">>> Iteration #  14000\n",
            ">>> Iteration #  15000\n",
            ">>> Iteration #  16000\n",
            ">>> Iteration #  17000\n",
            ">>> Iteration #  18000\n",
            ">>> Iteration #  19000\n",
            ">>> Iteration #  20000\n",
            ">>> Iteration #  21000\n",
            ">>> Iteration #  22000\n",
            ">>> Iteration #  23000\n",
            ">>> Iteration #  24000\n",
            ">>> Iteration #  25000\n",
            ">>> Iteration #  26000\n",
            ">>> Iteration #  27000\n",
            ">>> Iteration #  28000\n",
            ">>> Iteration #  29000\n",
            ">>> Iteration #  30000\n",
            ">>> Iteration #  31000\n",
            ">>> Iteration #  32000\n",
            ">>> Iteration #  33000\n",
            ">>> Iteration #  34000\n",
            ">>> Iteration #  35000\n",
            ">>> Iteration #  36000\n",
            ">>> Iteration #  37000\n",
            ">>> Iteration #  38000\n",
            ">>> Iteration #  39000\n",
            ">>> Iteration #  40000\n",
            ">>> Iteration #  41000\n",
            ">>> Iteration #  42000\n",
            ">>> Iteration #  43000\n",
            ">>> Iteration #  44000\n",
            ">>> Iteration #  45000\n",
            ">>> Iteration #  46000\n",
            ">>> Iteration #  47000\n",
            ">>> Iteration #  48000\n",
            ">>> Iteration #  49000\n",
            ">>> Iteration #  50000\n",
            ">>> Iteration #  51000\n",
            ">>> Iteration #  52000\n",
            ">>> Iteration #  53000\n",
            ">>> Iteration #  54000\n"
          ]
        }
      ]
    },
    {
      "cell_type": "code",
      "source": [
        "#printing the xtrain and extracted features\n",
        "print(X_train.shape)\n",
        "print(X_train)\n",
        "print(features)\n",
        "print(features.shape)\n"
      ],
      "metadata": {
        "colab": {
          "base_uri": "https://localhost:8080/"
        },
        "id": "wZQGkmPmZb1y",
        "outputId": "97788ee9-0797-4e94-9694-9419e6f7e12d"
      },
      "execution_count": 9,
      "outputs": [
        {
          "output_type": "stream",
          "name": "stdout",
          "text": [
            "(54214, 7000)\n",
            "[[0. 0. 0. ... 0. 0. 0.]\n",
            " [0. 0. 0. ... 0. 0. 0.]\n",
            " [0. 0. 0. ... 0. 0. 0.]\n",
            " ...\n",
            " [0. 0. 0. ... 0. 0. 0.]\n",
            " [0. 0. 0. ... 0. 0. 0.]\n",
            " [0. 0. 0. ... 0. 0. 0.]]\n",
            "['aaron' 'abandon' 'abandoned' ... 'zombie' 'zone' 'zoo']\n",
            "(7000,)\n"
          ]
        }
      ]
    },
    {
      "cell_type": "code",
      "source": [
        "#seperating the dataset into training and testing data\n",
        "from sklearn.model_selection import train_test_split\n",
        "X_train, X_test, y_train, y_test = train_test_split(X_train,y_train,test_size=0.20,random_state=0)"
      ],
      "metadata": {
        "id": "Hh9BszkAZfX1"
      },
      "execution_count": 10,
      "outputs": []
    },
    {
      "cell_type": "code",
      "source": [
        "print(X_train.shape)\n",
        "print(X_test.shape)"
      ],
      "metadata": {
        "colab": {
          "base_uri": "https://localhost:8080/"
        },
        "id": "k9dMwPtXZiCx",
        "outputId": "b1dd0890-14ae-46c9-e6f8-076461ae502a"
      },
      "execution_count": 11,
      "outputs": [
        {
          "output_type": "stream",
          "name": "stdout",
          "text": [
            "(43371, 7000)\n",
            "(10843, 7000)\n"
          ]
        }
      ]
    },
    {
      "cell_type": "code",
      "source": [
        "#building a Navie Bayers model and training it using training variables\n",
        "from sklearn.naive_bayes import MultinomialNB\n",
        "\n",
        "model = MultinomialNB()\n",
        "model.fit(X_train, y_train)"
      ],
      "metadata": {
        "colab": {
          "base_uri": "https://localhost:8080/",
          "height": 74
        },
        "id": "nXkEMWhqZkzO",
        "outputId": "4e983458-02f6-4cb4-8b46-7632bf50176e"
      },
      "execution_count": 12,
      "outputs": [
        {
          "output_type": "execute_result",
          "data": {
            "text/plain": [
              "MultinomialNB()"
            ],
            "text/html": [
              "<style>#sk-container-id-1 {color: black;background-color: white;}#sk-container-id-1 pre{padding: 0;}#sk-container-id-1 div.sk-toggleable {background-color: white;}#sk-container-id-1 label.sk-toggleable__label {cursor: pointer;display: block;width: 100%;margin-bottom: 0;padding: 0.3em;box-sizing: border-box;text-align: center;}#sk-container-id-1 label.sk-toggleable__label-arrow:before {content: \"▸\";float: left;margin-right: 0.25em;color: #696969;}#sk-container-id-1 label.sk-toggleable__label-arrow:hover:before {color: black;}#sk-container-id-1 div.sk-estimator:hover label.sk-toggleable__label-arrow:before {color: black;}#sk-container-id-1 div.sk-toggleable__content {max-height: 0;max-width: 0;overflow: hidden;text-align: left;background-color: #f0f8ff;}#sk-container-id-1 div.sk-toggleable__content pre {margin: 0.2em;color: black;border-radius: 0.25em;background-color: #f0f8ff;}#sk-container-id-1 input.sk-toggleable__control:checked~div.sk-toggleable__content {max-height: 200px;max-width: 100%;overflow: auto;}#sk-container-id-1 input.sk-toggleable__control:checked~label.sk-toggleable__label-arrow:before {content: \"▾\";}#sk-container-id-1 div.sk-estimator input.sk-toggleable__control:checked~label.sk-toggleable__label {background-color: #d4ebff;}#sk-container-id-1 div.sk-label input.sk-toggleable__control:checked~label.sk-toggleable__label {background-color: #d4ebff;}#sk-container-id-1 input.sk-hidden--visually {border: 0;clip: rect(1px 1px 1px 1px);clip: rect(1px, 1px, 1px, 1px);height: 1px;margin: -1px;overflow: hidden;padding: 0;position: absolute;width: 1px;}#sk-container-id-1 div.sk-estimator {font-family: monospace;background-color: #f0f8ff;border: 1px dotted black;border-radius: 0.25em;box-sizing: border-box;margin-bottom: 0.5em;}#sk-container-id-1 div.sk-estimator:hover {background-color: #d4ebff;}#sk-container-id-1 div.sk-parallel-item::after {content: \"\";width: 100%;border-bottom: 1px solid gray;flex-grow: 1;}#sk-container-id-1 div.sk-label:hover label.sk-toggleable__label {background-color: #d4ebff;}#sk-container-id-1 div.sk-serial::before {content: \"\";position: absolute;border-left: 1px solid gray;box-sizing: border-box;top: 0;bottom: 0;left: 50%;z-index: 0;}#sk-container-id-1 div.sk-serial {display: flex;flex-direction: column;align-items: center;background-color: white;padding-right: 0.2em;padding-left: 0.2em;position: relative;}#sk-container-id-1 div.sk-item {position: relative;z-index: 1;}#sk-container-id-1 div.sk-parallel {display: flex;align-items: stretch;justify-content: center;background-color: white;position: relative;}#sk-container-id-1 div.sk-item::before, #sk-container-id-1 div.sk-parallel-item::before {content: \"\";position: absolute;border-left: 1px solid gray;box-sizing: border-box;top: 0;bottom: 0;left: 50%;z-index: -1;}#sk-container-id-1 div.sk-parallel-item {display: flex;flex-direction: column;z-index: 1;position: relative;background-color: white;}#sk-container-id-1 div.sk-parallel-item:first-child::after {align-self: flex-end;width: 50%;}#sk-container-id-1 div.sk-parallel-item:last-child::after {align-self: flex-start;width: 50%;}#sk-container-id-1 div.sk-parallel-item:only-child::after {width: 0;}#sk-container-id-1 div.sk-dashed-wrapped {border: 1px dashed gray;margin: 0 0.4em 0.5em 0.4em;box-sizing: border-box;padding-bottom: 0.4em;background-color: white;}#sk-container-id-1 div.sk-label label {font-family: monospace;font-weight: bold;display: inline-block;line-height: 1.2em;}#sk-container-id-1 div.sk-label-container {text-align: center;}#sk-container-id-1 div.sk-container {/* jupyter's `normalize.less` sets `[hidden] { display: none; }` but bootstrap.min.css set `[hidden] { display: none !important; }` so we also need the `!important` here to be able to override the default hidden behavior on the sphinx rendered scikit-learn.org. See: https://github.com/scikit-learn/scikit-learn/issues/21755 */display: inline-block !important;position: relative;}#sk-container-id-1 div.sk-text-repr-fallback {display: none;}</style><div id=\"sk-container-id-1\" class=\"sk-top-container\"><div class=\"sk-text-repr-fallback\"><pre>MultinomialNB()</pre><b>In a Jupyter environment, please rerun this cell to show the HTML representation or trust the notebook. <br />On GitHub, the HTML representation is unable to render, please try loading this page with nbviewer.org.</b></div><div class=\"sk-container\" hidden><div class=\"sk-item\"><div class=\"sk-estimator sk-toggleable\"><input class=\"sk-toggleable__control sk-hidden--visually\" id=\"sk-estimator-id-1\" type=\"checkbox\" checked><label for=\"sk-estimator-id-1\" class=\"sk-toggleable__label sk-toggleable__label-arrow\">MultinomialNB</label><div class=\"sk-toggleable__content\"><pre>MultinomialNB()</pre></div></div></div></div></div>"
            ]
          },
          "metadata": {},
          "execution_count": 12
        }
      ]
    },
    {
      "cell_type": "code",
      "source": [
        "print(len(y_train))"
      ],
      "metadata": {
        "colab": {
          "base_uri": "https://localhost:8080/"
        },
        "id": "EVuQdl6DZvLV",
        "outputId": "446f1dc5-73e0-4ae3-a3ea-b360c7d83b78"
      },
      "execution_count": 13,
      "outputs": [
        {
          "output_type": "stream",
          "name": "stdout",
          "text": [
            "43371\n"
          ]
        }
      ]
    },
    {
      "cell_type": "code",
      "source": [
        "#predicting the test data\n",
        "y_pred = model.predict(X_test)\n",
        "y_pred"
      ],
      "metadata": {
        "colab": {
          "base_uri": "https://localhost:8080/"
        },
        "id": "X4_sNtBdZsef",
        "outputId": "6dd28225-e59d-473a-a9cf-9f936a18a710"
      },
      "execution_count": 14,
      "outputs": [
        {
          "output_type": "execute_result",
          "data": {
            "text/plain": [
              "array([ 7,  8,  7, ..., 21,  7,  7])"
            ]
          },
          "metadata": {},
          "execution_count": 14
        }
      ]
    },
    {
      "cell_type": "code",
      "source": [
        "np.printoptions(precision=2)\n",
        "print(np.concatenate((y_pred.reshape(len(y_pred),1),y_test.reshape(len(y_test),1)),1))\n"
      ],
      "metadata": {
        "colab": {
          "base_uri": "https://localhost:8080/"
        },
        "id": "oFT7NoSgz2-Z",
        "outputId": "fa2efd0e-7f5f-447d-9af1-c3a7b941677f"
      },
      "execution_count": 15,
      "outputs": [
        {
          "output_type": "stream",
          "name": "stdout",
          "text": [
            "[[ 7  7]\n",
            " [ 8  8]\n",
            " [ 7  7]\n",
            " ...\n",
            " [21 21]\n",
            " [ 7 12]\n",
            " [ 7  7]]\n"
          ]
        }
      ]
    },
    {
      "cell_type": "code",
      "source": [
        "#printing the confusion matrix\n",
        "from sklearn.metrics import confusion_matrix\n",
        "conf_mat = confusion_matrix(y_test,y_pred)\n",
        "conf_mat"
      ],
      "metadata": {
        "colab": {
          "base_uri": "https://localhost:8080/"
        },
        "id": "Ix1CWDDvZt8x",
        "outputId": "5b9e5429-a46a-4dc4-ae5b-122be8a3b3ea"
      },
      "execution_count": 16,
      "outputs": [
        {
          "output_type": "execute_result",
          "data": {
            "text/plain": [
              "array([[  20,    0,    0,    0,    0,   22,    0,   47,  154,    0,    0,\n",
              "           0,    0,    2,    0,    0,    0,    0,    0,    0,    0,    3,\n",
              "           0,    0,    0,    0,    0],\n",
              "       [   0,    3,    4,    0,    0,   42,    0,    8,   45,    0,    0,\n",
              "           0,    0,    1,    0,    0,    0,    0,    0,    0,    0,    7,\n",
              "           0,    0,    0,    0,    0],\n",
              "       [   1,    3,   14,    0,    0,   21,    0,   41,   68,    0,    0,\n",
              "           0,    0,    2,    0,    0,    0,    0,    0,    0,    0,    0,\n",
              "           0,    0,    0,    0,    0],\n",
              "       [   1,    0,    0,    0,    0,   33,    0,   32,   34,    0,    0,\n",
              "           0,    0,    2,    0,    0,    0,    0,    0,    0,    0,    5,\n",
              "           0,    0,    0,    0,    0],\n",
              "       [   0,    0,    0,    0,    0,    0,    0,   41,   11,    0,    0,\n",
              "           0,    0,    0,    0,    0,    0,    0,    0,    0,    0,    0,\n",
              "           0,    0,    0,    0,    0],\n",
              "       [   2,    0,    0,    0,    0,  697,    0,  154,  633,    0,    0,\n",
              "           0,    0,    6,    0,    0,    0,    0,    0,    0,    0,    5,\n",
              "           0,    0,    0,    0,    0],\n",
              "       [   0,    0,    0,    0,    0,    3,    0,    9,   77,    0,    0,\n",
              "           0,    0,    0,    0,    0,    0,    0,    0,    0,    0,    0,\n",
              "           0,    0,    0,    0,    1],\n",
              "       [   1,    0,    0,    0,    0,   42,    0, 2267,  257,    0,    0,\n",
              "           0,    0,    2,    1,    0,    0,    0,    1,    0,    0,   15,\n",
              "           0,    0,    0,    0,    0],\n",
              "       [   0,    0,    0,    0,    0,  124,    0,  323, 2306,    0,    0,\n",
              "           0,    0,    3,    0,    0,    0,    0,    0,    0,    0,   17,\n",
              "           0,    0,    0,    0,    0],\n",
              "       [   0,    0,    0,    0,    0,   34,    0,   64,   61,    0,    0,\n",
              "           0,    0,    3,    0,    0,    0,    0,    0,    0,    0,    2,\n",
              "           0,    0,    0,    0,    0],\n",
              "       [   1,    0,    0,    0,    0,    6,    0,   19,   36,    0,    0,\n",
              "           0,    0,    3,    0,    0,    0,    0,    0,    0,    0,    2,\n",
              "           0,    0,    0,    0,    0],\n",
              "       [   0,    0,    0,    0,    0,   18,    0,   12,    2,    0,    0,\n",
              "           1,    0,    0,    0,    0,    0,    0,    0,    0,    0,    0,\n",
              "           0,    0,    0,    0,    0],\n",
              "       [   0,    0,    0,    0,    0,    2,    0,   37,    8,    0,    0,\n",
              "           0,    0,    0,    0,    0,    0,    0,    0,    0,    0,    0,\n",
              "           0,    0,    0,    0,    0],\n",
              "       [   1,    0,    0,    0,    0,   38,    0,   33,  205,    0,    0,\n",
              "           0,    0,  146,    0,    0,    0,    0,    0,    0,    0,    1,\n",
              "           0,    0,    0,    0,    0],\n",
              "       [   0,    0,    0,    0,    0,   11,    0,  132,    7,    0,    0,\n",
              "           0,    0,    0,   11,    0,    0,    0,    0,    0,    0,    2,\n",
              "           0,    0,    0,    0,    0],\n",
              "       [   0,    0,    0,    0,    0,   11,    0,   19,   25,    0,    0,\n",
              "           0,    0,    1,    0,    0,    0,    0,    0,    0,    0,    0,\n",
              "           0,    0,    0,    0,    0],\n",
              "       [   0,    0,    0,    0,    0,    5,    0,    3,   45,    0,    0,\n",
              "           0,    0,    2,    0,    0,    0,    0,    0,    0,    0,    0,\n",
              "           0,    0,    0,    0,    0],\n",
              "       [   0,    0,    0,    0,    0,    2,    0,   28,    2,    0,    0,\n",
              "           0,    0,    0,    0,    0,    0,    0,    0,    0,    0,    0,\n",
              "           0,    0,    0,    0,    0],\n",
              "       [   0,    0,    0,    0,    0,   47,    0,   87,   21,    0,    0,\n",
              "           0,    0,    0,    0,    0,    0,    0,    1,    0,    0,    1,\n",
              "           0,    0,    0,    0,    0],\n",
              "       [   0,    0,    0,    0,    0,    8,    0,    1,  112,    0,    0,\n",
              "           0,    0,    0,    0,    0,    0,    0,    0,    0,    0,    0,\n",
              "           0,    0,    0,    0,    0],\n",
              "       [   2,    0,    0,    0,    0,    8,    0,   73,   49,    0,    0,\n",
              "           0,    0,    3,    0,    0,    0,    0,    0,    0,    1,    3,\n",
              "           0,    0,    0,    0,    0],\n",
              "       [   1,    0,    0,    0,    0,   72,    0,  405,  454,    0,    0,\n",
              "           0,    0,    4,    0,    0,    0,    0,    0,    0,    0,  114,\n",
              "           0,    0,    0,    0,    0],\n",
              "       [   0,    0,    0,    0,    0,    8,    0,   75,    4,    0,    0,\n",
              "           0,    0,    0,    0,    0,    0,    0,    0,    0,    0,    2,\n",
              "           5,    0,    0,    0,    0],\n",
              "       [   0,    0,    0,    0,    0,   10,    0,   69,    2,    0,    0,\n",
              "           0,    0,    0,    0,    0,    0,    0,    0,    0,    0,    0,\n",
              "           0,    0,    0,    0,    0],\n",
              "       [   1,    0,    0,    0,    0,   26,    0,   25,  250,    0,    0,\n",
              "           0,    0,   14,    0,    0,    0,    0,    0,    0,    0,    5,\n",
              "           0,    0,    3,    0,    0],\n",
              "       [   0,    0,    0,    0,    0,    1,    0,   14,   11,    0,    0,\n",
              "           0,    0,    0,    0,    0,    0,    0,    0,    0,    0,    0,\n",
              "           0,    0,    0,    0,    0],\n",
              "       [   0,    0,    0,    0,    0,   13,    0,    4,   79,    0,    0,\n",
              "           0,    0,    1,    0,    0,    0,    0,    0,    0,    0,    0,\n",
              "           0,    0,    0,    0,  100]])"
            ]
          },
          "metadata": {},
          "execution_count": 16
        }
      ]
    },
    {
      "cell_type": "code",
      "source": [
        "#predicting the accuracy\n",
        "from sklearn.metrics import accuracy_score\n",
        "accuracy = accuracy_score(y_test,y_pred)\n",
        "print(accuracy)"
      ],
      "metadata": {
        "colab": {
          "base_uri": "https://localhost:8080/"
        },
        "id": "PvvFxRghZnZ-",
        "outputId": "23d0a9e5-2bb5-4646-872c-a05d2c9aa9fb"
      },
      "execution_count": 17,
      "outputs": [
        {
          "output_type": "stream",
          "name": "stdout",
          "text": [
            "0.5246702941990224\n"
          ]
        }
      ]
    },
    {
      "cell_type": "code",
      "source": [
        "#taking a sample of new test data\n",
        "new_test_df = new_test_df.sample(frac=0.05)\n"
      ],
      "metadata": {
        "id": "LLYFLIs1vxK9"
      },
      "execution_count": 18,
      "outputs": []
    },
    {
      "cell_type": "code",
      "source": [
        "# converting the description column  from Series type to numpy array\n",
        "desc = new_test_df['Description']\n",
        "print(desc)\n",
        "desc_arr = np.array(desc.tolist())\n",
        "print(type(desc_arr))\n"
      ],
      "metadata": {
        "colab": {
          "base_uri": "https://localhost:8080/"
        },
        "id": "At4TFjTrwlo7",
        "outputId": "2404178a-3bcf-43d2-8f79-81b0d8ec76a0"
      },
      "execution_count": 19,
      "outputs": [
        {
          "output_type": "stream",
          "name": "stdout",
          "text": [
            "11723    Matt, a home arcade games programmer runs into...\n",
            "24212    The documentary film \"Janus' Legacy: Refugee P...\n",
            "16939    An old lady and her dog are fed up of crime an...\n",
            "399      Kuhu, a 9 year old girl, drowns in a lake in N...\n",
            "17880    Jennifer, a young, ambitious executive running...\n",
            "                               ...                        \n",
            "32337    Hans Schabe, whose last name means cockroach i...\n",
            "12288    For nearly two centuries, generations of knigh...\n",
            "44480    Have you ever been in love with anyone? Better...\n",
            "19806    Liguo is an aspiring cartoonist, forced by rea...\n",
            "32620    This documentary reveals the important role of...\n",
            "Name: Description, Length: 2710, dtype: object\n",
            "<class 'numpy.ndarray'>\n"
          ]
        }
      ]
    },
    {
      "cell_type": "code",
      "source": [
        "#making a function that converts the input dataset into xtrain and features\n",
        "def extract_features(description_array):\n",
        "    wordnet = WordNetLemmatizer()\n",
        "    tfidf = TfidfVectorizer(max_features=7000)\n",
        "\n",
        "    corpus =[]\n",
        "\n",
        "    for i,des in enumerate(description_array):\n",
        "        if (i%1000==0):\n",
        "            print(\">>> Iteration # \",i)\n",
        "        var = re.sub(\"[^a-zA-Z]\", \" \", des) # just keeping the alphabets and removing special characters and numbers\n",
        "        var = var.lower() # lowercasing all\n",
        "        var = var.split() # splits on space to get a list of words\n",
        "        var = [wordnet.lemmatize(word) for word in var if not word in set(stopwords.words('english'))] # Lemmatizing all the words\n",
        "        var = ' '.join(var)\n",
        "        corpus.append(var)\n",
        "    new_X_test = tfidf.fit_transform(corpus).toarray()\n",
        "    features1 = tfidf.get_feature_names_out()\n",
        "    return new_X_test,features1\n"
      ],
      "metadata": {
        "colab": {
          "base_uri": "https://localhost:8080/"
        },
        "id": "HJO88vQ_b29D",
        "outputId": "34218d29-f20f-4ae2-b709-fcc49e985575"
      },
      "execution_count": 20,
      "outputs": [
        {
          "output_type": "stream",
          "name": "stdout",
          "text": [
            ">>> Iteration #  0\n",
            ">>> Iteration #  1000\n",
            ">>> Iteration #  2000\n",
            "(2710, 7000)\n",
            "<class 'numpy.ndarray'>\n",
            "<class 'numpy.ndarray'>\n",
            "(7000,)\n"
          ]
        }
      ]
    },
    {
      "cell_type": "code",
      "source": [
        "#printing the xtest and extracted features\n",
        "print(new_X_test.shape)\n",
        "print(type(new_X_test))\n",
        "print(type(features1))\n",
        "print(features1.shape)\n"
      ],
      "metadata": {
        "colab": {
          "base_uri": "https://localhost:8080/"
        },
        "id": "j8xLBsv50jjr",
        "outputId": "7ceffa68-2291-4892-a621-0cf492fa3424"
      },
      "execution_count": 24,
      "outputs": [
        {
          "output_type": "stream",
          "name": "stdout",
          "text": [
            "(2710, 7000)\n",
            "<class 'numpy.ndarray'>\n",
            "<class 'numpy.ndarray'>\n",
            "(7000,)\n"
          ]
        }
      ]
    },
    {
      "cell_type": "code",
      "source": [
        "#predicting a new_genre\n",
        "new_genre_pred = model.predict(new_X_test)"
      ],
      "metadata": {
        "id": "Dr29X-Zz0o7k"
      },
      "execution_count": 26,
      "outputs": []
    },
    {
      "cell_type": "code",
      "source": [
        "#printing the new genre\n",
        "print(new_genre_pred)"
      ],
      "metadata": {
        "colab": {
          "base_uri": "https://localhost:8080/"
        },
        "id": "M3eqn2-cufZ1",
        "outputId": "61272676-10ab-4786-8cdc-484dd3e54f41"
      },
      "execution_count": 27,
      "outputs": [
        {
          "output_type": "stream",
          "name": "stdout",
          "text": [
            "[7 8 7 ... 9 7 7]\n"
          ]
        }
      ]
    },
    {
      "cell_type": "code",
      "source": [],
      "metadata": {
        "id": "Gmvutw3Jx4Vi"
      },
      "execution_count": 23,
      "outputs": []
    }
  ]
}